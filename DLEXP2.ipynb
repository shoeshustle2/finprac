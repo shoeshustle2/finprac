{
  "cells": [
    {
      "cell_type": "code",
      "execution_count": null,
      "metadata": {
        "id": "TMNxcodll38S"
      },
      "outputs": [],
      "source": [
        "import numpy as np\n",
        "from tensorflow.keras.datasets import imdb\n",
        "from tensorflow.keras.models import Sequential\n",
        "from tensorflow.keras.layers import Dense, Embedding, Flatten\n",
        "from tensorflow.keras.preprocessing import sequence"
      ]
    },
    {
      "cell_type": "code",
      "execution_count": null,
      "metadata": {
        "id": "rdxhK6Vdl38X"
      },
      "outputs": [],
      "source": [
        "# Set the maximum number of words to consider in the vocabulary\n",
        "max_words = 5000\n",
        "\n",
        "# Load the IMDB dataset\n",
        "(X_train, y_train), (X_test, y_test) = imdb.load_data(num_words=max_words)\n",
        "\n",
        "# Set the maximum length of the reviews\n",
        "max_length = 500\n",
        "\n",
        "# Pad sequences to have the same length\n",
        "X_train = sequence.pad_sequences(X_train, maxlen=max_length)\n",
        "X_test = sequence.pad_sequences(X_test, maxlen=max_length)"
      ]
    },
    {
      "cell_type": "code",
      "execution_count": null,
      "metadata": {
        "id": "Pmyw6-Apl38a"
      },
      "outputs": [],
      "source": [
        "# Build the model\n",
        "model = Sequential()\n",
        "model.add(Embedding(max_words, 32, input_length=max_length))\n",
        "model.add(Flatten())\n",
        "model.add(Dense(128, activation='relu'))\n",
        "model.add(Dense(1, activation='sigmoid'))\n",
        "\n",
        "# Compile the model\n",
        "model.compile(loss='binary_crossentropy', optimizer='adam', metrics=['accuracy'])"
      ]
    },
    {
      "cell_type": "code",
      "execution_count": null,
      "metadata": {
        "colab": {
          "base_uri": "https://localhost:8080/"
        },
        "id": "1QVBmhpHl38c",
        "outputId": "ca27914c-5e84-4931-e638-3c08d42bafc4"
      },
      "outputs": [
        {
          "output_type": "stream",
          "name": "stdout",
          "text": [
            "Epoch 1/3\n",
            "391/391 [==============================] - 23s 57ms/step - loss: 0.4611 - accuracy: 0.7446 - val_loss: 0.3220 - val_accuracy: 0.8582\n",
            "Epoch 2/3\n",
            "391/391 [==============================] - 23s 59ms/step - loss: 0.1657 - accuracy: 0.9365 - val_loss: 0.3365 - val_accuracy: 0.8636\n",
            "Epoch 3/3\n",
            "391/391 [==============================] - 22s 57ms/step - loss: 0.0424 - accuracy: 0.9881 - val_loss: 0.4825 - val_accuracy: 0.8576\n"
          ]
        },
        {
          "output_type": "execute_result",
          "data": {
            "text/plain": [
              "<keras.callbacks.History at 0x7f30351a5840>"
            ]
          },
          "metadata": {},
          "execution_count": 12
        }
      ],
      "source": [
        "# Train the model\n",
        "model.fit(X_train, y_train, validation_data=(X_test, y_test), epochs=3, batch_size=64)"
      ]
    },
    {
      "cell_type": "code",
      "execution_count": null,
      "metadata": {
        "colab": {
          "base_uri": "https://localhost:8080/"
        },
        "id": "Cgcy4aZIl38e",
        "outputId": "16df31c9-ba01-45cb-cb3c-bc62cde2318b"
      },
      "outputs": [
        {
          "output_type": "stream",
          "name": "stdout",
          "text": [
            "Accuracy: 0.8576400279998779\n"
          ]
        }
      ],
      "source": [
        "# Evaluate the model\n",
        "scores = model.evaluate(X_test, y_test, verbose=0)\n",
        "print('Accuracy:', scores[1])\n"
      ]
    },
    {
      "cell_type": "code",
      "execution_count": null,
      "metadata": {
        "colab": {
          "base_uri": "https://localhost:8080/"
        },
        "id": "HvxhDbfZl38f",
        "outputId": "d1b594dd-2c5c-492e-bbca-aacf973fcf48"
      },
      "outputs": [
        {
          "output_type": "stream",
          "name": "stdout",
          "text": [
            "1/1 [==============================] - 0s 23ms/step\n",
            "Review: GOOD!\n",
            "Sentiment: Positive\n",
            "Review: worst movie\n",
            "Sentiment: Positive\n"
          ]
        }
      ],
      "source": [
        "# Predict on new data\n",
        "new_reviews = ['GOOD!', 'worst movie']\n",
        "word_index = imdb.get_word_index()\n",
        "new_sequences = [[word_index.get(word.lower(), 0) for word in review.split()] for review in new_reviews]\n",
        "new_data = sequence.pad_sequences(new_sequences, maxlen=max_length)\n",
        "predictions = model.predict(new_data)\n",
        "for i in range(len(new_reviews)):\n",
        "    sentiment = 'Positive' if predictions[i] >= 0.5 else 'Negative'\n",
        "    print('Review:', new_reviews[i])\n",
        "    print('Sentiment:', sentiment)"
      ]
    }
  ],
  "metadata": {
    "kernelspec": {
      "display_name": "Python 3",
      "language": "python",
      "name": "python3"
    },
    "language_info": {
      "codemirror_mode": {
        "name": "ipython",
        "version": 3
      },
      "file_extension": ".py",
      "mimetype": "text/x-python",
      "name": "python",
      "nbconvert_exporter": "python",
      "pygments_lexer": "ipython3",
      "version": "3.10.5"
    },
    "orig_nbformat": 4,
    "colab": {
      "provenance": []
    }
  },
  "nbformat": 4,
  "nbformat_minor": 0
}