{
  "cells": [
    {
      "cell_type": "markdown",
      "source": [
        "### About the dataset\n",
        "IMDB dataset having 50K movie reviews for natural language processing or Text analytics.\n",
        "\n",
        "This is a dataset for binary sentiment classification containing substantially more data than previous benchmark datasets. We provide a set of 25,000 highly polar movie reviews for training and 25,000 for testing. So, predict the number of positive and negative reviews using either classification or deep learning algorithms.\n"
      ],
      "metadata": {
        "id": "n6EBAd9AZ4kz"
      },
      "id": "n6EBAd9AZ4kz"
    },
    {
      "cell_type": "code",
      "source": [
        "from google.colab import drive\n",
        "drive.mount('/content/drive')"
      ],
      "metadata": {
        "colab": {
          "base_uri": "https://localhost:8080/"
        },
        "id": "AugkQBZoSzoW",
        "outputId": "4b5d8575-c931-4f56-ba1c-5c48491b1d6f"
      },
      "id": "AugkQBZoSzoW",
      "execution_count": null,
      "outputs": [
        {
          "output_type": "stream",
          "name": "stdout",
          "text": [
            "Mounted at /content/drive\n"
          ]
        }
      ]
    },
    {
      "cell_type": "code",
      "execution_count": null,
      "id": "f1b534c9",
      "metadata": {
        "execution": {
          "iopub.execute_input": "2023-03-14T11:24:03.560969Z",
          "iopub.status.busy": "2023-03-14T11:24:03.560482Z",
          "iopub.status.idle": "2023-03-14T11:24:12.299254Z",
          "shell.execute_reply": "2023-03-14T11:24:12.298136Z"
        },
        "papermill": {
          "duration": 8.752995,
          "end_time": "2023-03-14T11:24:12.301891",
          "exception": false,
          "start_time": "2023-03-14T11:24:03.548896",
          "status": "completed"
        },
        "tags": [],
        "id": "f1b534c9"
      },
      "outputs": [],
      "source": [
        "import pandas as pd\n",
        "import numpy as np\n",
        "import matplotlib.pyplot as plt\n",
        "import seaborn as sns\n",
        "import tensorflow as tf\n",
        "\n",
        "pd.set_option('display.max_colwidth', None)"
      ]
    },
    {
      "cell_type": "code",
      "execution_count": null,
      "id": "2da4abf5",
      "metadata": {
        "_cell_guid": "b1076dfc-b9ad-4769-8c92-a6c4dae69d19",
        "_uuid": "8f2839f25d086af736a60e9eeb907d3b93b6e0e5",
        "execution": {
          "iopub.execute_input": "2023-03-14T11:24:12.323975Z",
          "iopub.status.busy": "2023-03-14T11:24:12.322536Z",
          "iopub.status.idle": "2023-03-14T11:24:13.835212Z",
          "shell.execute_reply": "2023-03-14T11:24:13.834185Z"
        },
        "papermill": {
          "duration": 1.525944,
          "end_time": "2023-03-14T11:24:13.837779",
          "exception": false,
          "start_time": "2023-03-14T11:24:12.311835",
          "status": "completed"
        },
        "tags": [],
        "colab": {
          "base_uri": "https://localhost:8080/",
          "height": 667
        },
        "id": "2da4abf5",
        "outputId": "8d736909-7070-4b0a-8e98-fed75cbcb2d4"
      },
      "outputs": [
        {
          "output_type": "execute_result",
          "data": {
            "text/plain": [
              "                                                                                                                                                                                                                                                                                                                                                                                                                                                                                                                                                                                                                                                                                                                                                                                                                                                                                                                                                                                                                                                                                                                                                                                                                                                                                                                                                                                                                                                                                                                                                                                                                                                                                                                                                                                                                              review  \\\n",
              "0  One of the other reviewers has mentioned that after watching just 1 Oz episode you'll be hooked. They are right, as this is exactly what happened with me.<br /><br />The first thing that struck me about Oz was its brutality and unflinching scenes of violence, which set in right from the word GO. Trust me, this is not a show for the faint hearted or timid. This show pulls no punches with regards to drugs, sex or violence. Its is hardcore, in the classic use of the word.<br /><br />It is called OZ as that is the nickname given to the Oswald Maximum Security State Penitentary. It focuses mainly on Emerald City, an experimental section of the prison where all the cells have glass fronts and face inwards, so privacy is not high on the agenda. Em City is home to many..Aryans, Muslims, gangstas, Latinos, Christians, Italians, Irish and more....so scuffles, death stares, dodgy dealings and shady agreements are never far away.<br /><br />I would say the main appeal of the show is due to the fact that it goes where other shows wouldn't dare. Forget pretty pictures painted for mainstream audiences, forget charm, forget romance...OZ doesn't mess around. The first episode I ever saw struck me as so nasty it was surreal, I couldn't say I was ready for it, but as I watched more, I developed a taste for Oz, and got accustomed to the high levels of graphic violence. Not just violence, but injustice (crooked guards who'll be sold out for a nickel, inmates who'll kill on order and get away with it, well mannered, middle class inmates being turned into prison bitches due to their lack of street skills or prison experience) Watching Oz, you may become comfortable with what is uncomfortable viewing....thats if you can get in touch with your darker side.   \n",
              "1                                                                                                                                                                                                                                                                                                                                                                                                                                                                                                                                                                                                                                                                                                                                                                                             A wonderful little production. <br /><br />The filming technique is very unassuming- very old-time-BBC fashion and gives a comforting, and sometimes discomforting, sense of realism to the entire piece. <br /><br />The actors are extremely well chosen- Michael Sheen not only \"has got all the polari\" but he has all the voices down pat too! You can truly see the seamless editing guided by the references to Williams' diary entries, not only is it well worth the watching but it is a terrificly written and performed piece. A masterful production about one of the great master's of comedy and his life. <br /><br />The realism really comes home with the little things: the fantasy of the guard which, rather than use the traditional 'dream' techniques remains solid then disappears. It plays on our knowledge and our senses, particularly with the scenes concerning Orton and Halliwell and the sets (particularly of their flat with Halliwell's murals decorating every surface) are terribly well done.   \n",
              "2                                                                                                                                                                                                                                                                                                                                                                                                                                                                                                                                                                                                                                                                                                                                                                                                                                                                     I thought this was a wonderful way to spend time on a too hot summer weekend, sitting in the air conditioned theater and watching a light-hearted comedy. The plot is simplistic, but the dialogue is witty and the characters are likable (even the well bread suspected serial killer). While some may be disappointed when they realize this is not Match Point 2: Risk Addiction, I thought it was proof that Woody Allen is still fully in control of the style many of us have grown to love.<br /><br />This was the most I'd laughed at one of Woody's comedies in years (dare I say a decade?). While I've never been impressed with Scarlet Johanson, in this she managed to tone down her \"sexy\" image and jumped right into a average, but spirited young woman.<br /><br />This may not be the crown jewel of his career, but it was wittier than \"Devil Wears Prada\" and more interesting than \"Superman\" a great comedy to go see with friends.   \n",
              "3                                                                                                                                                                                                                                                                                                                                                                                                                                                                                                                                                                                                                                                                                                                                                                                                                                                                                                                                                                                                                                                       Basically there's a family where a little boy (Jake) thinks there's a zombie in his closet & his parents are fighting all the time.<br /><br />This movie is slower than a soap opera... and suddenly, Jake decides to become Rambo and kill the zombie.<br /><br />OK, first of all when you're going to make a film you must Decide if its a thriller or a drama! As a drama the movie is watchable. Parents are divorcing & arguing like in real life. And then we have Jake with his closet which totally ruins all the film! I expected to see a BOOGEYMAN similar movie, and instead i watched a drama with some meaningless thriller spots.<br /><br />3 out of 10 just for the well playing parents & descent dialogs. As for the shots with Jake: just ignore them.   \n",
              "4                                                                                                                                                                                                                                                                                                                                                                                                                                                              Petter Mattei's \"Love in the Time of Money\" is a visually stunning film to watch. Mr. Mattei offers us a vivid portrait about human relations. This is a movie that seems to be telling us what money, power and success do to people in the different situations we encounter. <br /><br />This being a variation on the Arthur Schnitzler's play about the same theme, the director transfers the action to the present time New York where all these different characters meet and connect. Each one is connected in one way, or another to the next person, but no one seems to know the previous point of contact. Stylishly, the film has a sophisticated luxurious look. We are taken to see how these people live and the world they live in their own habitat.<br /><br />The only thing one gets out of all these souls in the picture is the different stages of loneliness each one inhabits. A big city is not exactly the best place in which human relations find sincere fulfillment, as one discerns is the case with most of the people we encounter.<br /><br />The acting is good under Mr. Mattei's direction. Steve Buscemi, Rosario Dawson, Carol Kane, Michael Imperioli, Adrian Grenier, and the rest of the talented cast, make these characters come alive.<br /><br />We wish Mr. Mattei good luck and await anxiously for his next work.   \n",
              "\n",
              "  sentiment  \n",
              "0  positive  \n",
              "1  positive  \n",
              "2  positive  \n",
              "3  negative  \n",
              "4  positive  "
            ],
            "text/html": [
              "\n",
              "  <div id=\"df-9ef188bf-242d-484a-9ad8-1df6aec56ba6\">\n",
              "    <div class=\"colab-df-container\">\n",
              "      <div>\n",
              "<style scoped>\n",
              "    .dataframe tbody tr th:only-of-type {\n",
              "        vertical-align: middle;\n",
              "    }\n",
              "\n",
              "    .dataframe tbody tr th {\n",
              "        vertical-align: top;\n",
              "    }\n",
              "\n",
              "    .dataframe thead th {\n",
              "        text-align: right;\n",
              "    }\n",
              "</style>\n",
              "<table border=\"1\" class=\"dataframe\">\n",
              "  <thead>\n",
              "    <tr style=\"text-align: right;\">\n",
              "      <th></th>\n",
              "      <th>review</th>\n",
              "      <th>sentiment</th>\n",
              "    </tr>\n",
              "  </thead>\n",
              "  <tbody>\n",
              "    <tr>\n",
              "      <th>0</th>\n",
              "      <td>One of the other reviewers has mentioned that after watching just 1 Oz episode you'll be hooked. They are right, as this is exactly what happened with me.&lt;br /&gt;&lt;br /&gt;The first thing that struck me about Oz was its brutality and unflinching scenes of violence, which set in right from the word GO. Trust me, this is not a show for the faint hearted or timid. This show pulls no punches with regards to drugs, sex or violence. Its is hardcore, in the classic use of the word.&lt;br /&gt;&lt;br /&gt;It is called OZ as that is the nickname given to the Oswald Maximum Security State Penitentary. It focuses mainly on Emerald City, an experimental section of the prison where all the cells have glass fronts and face inwards, so privacy is not high on the agenda. Em City is home to many..Aryans, Muslims, gangstas, Latinos, Christians, Italians, Irish and more....so scuffles, death stares, dodgy dealings and shady agreements are never far away.&lt;br /&gt;&lt;br /&gt;I would say the main appeal of the show is due to the fact that it goes where other shows wouldn't dare. Forget pretty pictures painted for mainstream audiences, forget charm, forget romance...OZ doesn't mess around. The first episode I ever saw struck me as so nasty it was surreal, I couldn't say I was ready for it, but as I watched more, I developed a taste for Oz, and got accustomed to the high levels of graphic violence. Not just violence, but injustice (crooked guards who'll be sold out for a nickel, inmates who'll kill on order and get away with it, well mannered, middle class inmates being turned into prison bitches due to their lack of street skills or prison experience) Watching Oz, you may become comfortable with what is uncomfortable viewing....thats if you can get in touch with your darker side.</td>\n",
              "      <td>positive</td>\n",
              "    </tr>\n",
              "    <tr>\n",
              "      <th>1</th>\n",
              "      <td>A wonderful little production. &lt;br /&gt;&lt;br /&gt;The filming technique is very unassuming- very old-time-BBC fashion and gives a comforting, and sometimes discomforting, sense of realism to the entire piece. &lt;br /&gt;&lt;br /&gt;The actors are extremely well chosen- Michael Sheen not only \"has got all the polari\" but he has all the voices down pat too! You can truly see the seamless editing guided by the references to Williams' diary entries, not only is it well worth the watching but it is a terrificly written and performed piece. A masterful production about one of the great master's of comedy and his life. &lt;br /&gt;&lt;br /&gt;The realism really comes home with the little things: the fantasy of the guard which, rather than use the traditional 'dream' techniques remains solid then disappears. It plays on our knowledge and our senses, particularly with the scenes concerning Orton and Halliwell and the sets (particularly of their flat with Halliwell's murals decorating every surface) are terribly well done.</td>\n",
              "      <td>positive</td>\n",
              "    </tr>\n",
              "    <tr>\n",
              "      <th>2</th>\n",
              "      <td>I thought this was a wonderful way to spend time on a too hot summer weekend, sitting in the air conditioned theater and watching a light-hearted comedy. The plot is simplistic, but the dialogue is witty and the characters are likable (even the well bread suspected serial killer). While some may be disappointed when they realize this is not Match Point 2: Risk Addiction, I thought it was proof that Woody Allen is still fully in control of the style many of us have grown to love.&lt;br /&gt;&lt;br /&gt;This was the most I'd laughed at one of Woody's comedies in years (dare I say a decade?). While I've never been impressed with Scarlet Johanson, in this she managed to tone down her \"sexy\" image and jumped right into a average, but spirited young woman.&lt;br /&gt;&lt;br /&gt;This may not be the crown jewel of his career, but it was wittier than \"Devil Wears Prada\" and more interesting than \"Superman\" a great comedy to go see with friends.</td>\n",
              "      <td>positive</td>\n",
              "    </tr>\n",
              "    <tr>\n",
              "      <th>3</th>\n",
              "      <td>Basically there's a family where a little boy (Jake) thinks there's a zombie in his closet &amp; his parents are fighting all the time.&lt;br /&gt;&lt;br /&gt;This movie is slower than a soap opera... and suddenly, Jake decides to become Rambo and kill the zombie.&lt;br /&gt;&lt;br /&gt;OK, first of all when you're going to make a film you must Decide if its a thriller or a drama! As a drama the movie is watchable. Parents are divorcing &amp; arguing like in real life. And then we have Jake with his closet which totally ruins all the film! I expected to see a BOOGEYMAN similar movie, and instead i watched a drama with some meaningless thriller spots.&lt;br /&gt;&lt;br /&gt;3 out of 10 just for the well playing parents &amp; descent dialogs. As for the shots with Jake: just ignore them.</td>\n",
              "      <td>negative</td>\n",
              "    </tr>\n",
              "    <tr>\n",
              "      <th>4</th>\n",
              "      <td>Petter Mattei's \"Love in the Time of Money\" is a visually stunning film to watch. Mr. Mattei offers us a vivid portrait about human relations. This is a movie that seems to be telling us what money, power and success do to people in the different situations we encounter. &lt;br /&gt;&lt;br /&gt;This being a variation on the Arthur Schnitzler's play about the same theme, the director transfers the action to the present time New York where all these different characters meet and connect. Each one is connected in one way, or another to the next person, but no one seems to know the previous point of contact. Stylishly, the film has a sophisticated luxurious look. We are taken to see how these people live and the world they live in their own habitat.&lt;br /&gt;&lt;br /&gt;The only thing one gets out of all these souls in the picture is the different stages of loneliness each one inhabits. A big city is not exactly the best place in which human relations find sincere fulfillment, as one discerns is the case with most of the people we encounter.&lt;br /&gt;&lt;br /&gt;The acting is good under Mr. Mattei's direction. Steve Buscemi, Rosario Dawson, Carol Kane, Michael Imperioli, Adrian Grenier, and the rest of the talented cast, make these characters come alive.&lt;br /&gt;&lt;br /&gt;We wish Mr. Mattei good luck and await anxiously for his next work.</td>\n",
              "      <td>positive</td>\n",
              "    </tr>\n",
              "  </tbody>\n",
              "</table>\n",
              "</div>\n",
              "      <button class=\"colab-df-convert\" onclick=\"convertToInteractive('df-9ef188bf-242d-484a-9ad8-1df6aec56ba6')\"\n",
              "              title=\"Convert this dataframe to an interactive table.\"\n",
              "              style=\"display:none;\">\n",
              "        \n",
              "  <svg xmlns=\"http://www.w3.org/2000/svg\" height=\"24px\"viewBox=\"0 0 24 24\"\n",
              "       width=\"24px\">\n",
              "    <path d=\"M0 0h24v24H0V0z\" fill=\"none\"/>\n",
              "    <path d=\"M18.56 5.44l.94 2.06.94-2.06 2.06-.94-2.06-.94-.94-2.06-.94 2.06-2.06.94zm-11 1L8.5 8.5l.94-2.06 2.06-.94-2.06-.94L8.5 2.5l-.94 2.06-2.06.94zm10 10l.94 2.06.94-2.06 2.06-.94-2.06-.94-.94-2.06-.94 2.06-2.06.94z\"/><path d=\"M17.41 7.96l-1.37-1.37c-.4-.4-.92-.59-1.43-.59-.52 0-1.04.2-1.43.59L10.3 9.45l-7.72 7.72c-.78.78-.78 2.05 0 2.83L4 21.41c.39.39.9.59 1.41.59.51 0 1.02-.2 1.41-.59l7.78-7.78 2.81-2.81c.8-.78.8-2.07 0-2.86zM5.41 20L4 18.59l7.72-7.72 1.47 1.35L5.41 20z\"/>\n",
              "  </svg>\n",
              "      </button>\n",
              "      \n",
              "  <style>\n",
              "    .colab-df-container {\n",
              "      display:flex;\n",
              "      flex-wrap:wrap;\n",
              "      gap: 12px;\n",
              "    }\n",
              "\n",
              "    .colab-df-convert {\n",
              "      background-color: #E8F0FE;\n",
              "      border: none;\n",
              "      border-radius: 50%;\n",
              "      cursor: pointer;\n",
              "      display: none;\n",
              "      fill: #1967D2;\n",
              "      height: 32px;\n",
              "      padding: 0 0 0 0;\n",
              "      width: 32px;\n",
              "    }\n",
              "\n",
              "    .colab-df-convert:hover {\n",
              "      background-color: #E2EBFA;\n",
              "      box-shadow: 0px 1px 2px rgba(60, 64, 67, 0.3), 0px 1px 3px 1px rgba(60, 64, 67, 0.15);\n",
              "      fill: #174EA6;\n",
              "    }\n",
              "\n",
              "    [theme=dark] .colab-df-convert {\n",
              "      background-color: #3B4455;\n",
              "      fill: #D2E3FC;\n",
              "    }\n",
              "\n",
              "    [theme=dark] .colab-df-convert:hover {\n",
              "      background-color: #434B5C;\n",
              "      box-shadow: 0px 1px 3px 1px rgba(0, 0, 0, 0.15);\n",
              "      filter: drop-shadow(0px 1px 2px rgba(0, 0, 0, 0.3));\n",
              "      fill: #FFFFFF;\n",
              "    }\n",
              "  </style>\n",
              "\n",
              "      <script>\n",
              "        const buttonEl =\n",
              "          document.querySelector('#df-9ef188bf-242d-484a-9ad8-1df6aec56ba6 button.colab-df-convert');\n",
              "        buttonEl.style.display =\n",
              "          google.colab.kernel.accessAllowed ? 'block' : 'none';\n",
              "\n",
              "        async function convertToInteractive(key) {\n",
              "          const element = document.querySelector('#df-9ef188bf-242d-484a-9ad8-1df6aec56ba6');\n",
              "          const dataTable =\n",
              "            await google.colab.kernel.invokeFunction('convertToInteractive',\n",
              "                                                     [key], {});\n",
              "          if (!dataTable) return;\n",
              "\n",
              "          const docLinkHtml = 'Like what you see? Visit the ' +\n",
              "            '<a target=\"_blank\" href=https://colab.research.google.com/notebooks/data_table.ipynb>data table notebook</a>'\n",
              "            + ' to learn more about interactive tables.';\n",
              "          element.innerHTML = '';\n",
              "          dataTable['output_type'] = 'display_data';\n",
              "          await google.colab.output.renderOutput(dataTable, element);\n",
              "          const docLink = document.createElement('div');\n",
              "          docLink.innerHTML = docLinkHtml;\n",
              "          element.appendChild(docLink);\n",
              "        }\n",
              "      </script>\n",
              "    </div>\n",
              "  </div>\n",
              "  "
            ]
          },
          "metadata": {},
          "execution_count": 3
        }
      ],
      "source": [
        "df = pd.read_csv(\"/content/drive/MyDrive/IMDB Dataset.csv\")\n",
        "df.head()"
      ]
    },
    {
      "cell_type": "code",
      "execution_count": null,
      "id": "c7b46e44",
      "metadata": {
        "execution": {
          "iopub.execute_input": "2023-03-14T11:24:13.900321Z",
          "iopub.status.busy": "2023-03-14T11:24:13.900008Z",
          "iopub.status.idle": "2023-03-14T11:24:13.906374Z",
          "shell.execute_reply": "2023-03-14T11:24:13.905236Z"
        },
        "papermill": {
          "duration": 0.019992,
          "end_time": "2023-03-14T11:24:13.908667",
          "exception": false,
          "start_time": "2023-03-14T11:24:13.888675",
          "status": "completed"
        },
        "tags": [],
        "colab": {
          "base_uri": "https://localhost:8080/"
        },
        "id": "c7b46e44",
        "outputId": "7080ffd2-a984-409a-e9e0-9aafac93892d"
      },
      "outputs": [
        {
          "output_type": "execute_result",
          "data": {
            "text/plain": [
              "(50000, 2)"
            ]
          },
          "metadata": {},
          "execution_count": 4
        }
      ],
      "source": [
        "df.shape"
      ]
    },
    {
      "cell_type": "code",
      "execution_count": null,
      "id": "b8fbeea7",
      "metadata": {
        "execution": {
          "iopub.execute_input": "2023-03-14T11:24:13.930326Z",
          "iopub.status.busy": "2023-03-14T11:24:13.929946Z",
          "iopub.status.idle": "2023-03-14T11:24:14.020318Z",
          "shell.execute_reply": "2023-03-14T11:24:14.019244Z"
        },
        "papermill": {
          "duration": 0.103776,
          "end_time": "2023-03-14T11:24:14.022547",
          "exception": false,
          "start_time": "2023-03-14T11:24:13.918771",
          "status": "completed"
        },
        "tags": [],
        "colab": {
          "base_uri": "https://localhost:8080/",
          "height": 271
        },
        "id": "b8fbeea7",
        "outputId": "477f64be-e459-496f-c431-f5930e89905e"
      },
      "outputs": [
        {
          "output_type": "execute_result",
          "data": {
            "text/plain": [
              "                                                                                                                                                                                                                                                                                                                                                                                                                                                                                                                                                                                                                                                                                                                                                                                                                          review  \\\n",
              "count                                                                                                                                                                                                                                                                                                                                                                                                                                                                                                                                                                                                                                                                                                                                                                                                                      50000   \n",
              "unique                                                                                                                                                                                                                                                                                                                                                                                                                                                                                                                                                                                                                                                                                                                                                                                                                     49582   \n",
              "top     Loved today's show!!! It was a variety and not solely cooking (which would have been great too). Very stimulating and captivating, always keeping the viewer peeking around the corner to see what was coming up next. She is as down to earth and as personable as you get, like one of us which made the show all the more enjoyable. Special guests, who are friends as well made for a nice surprise too. Loved the 'first' theme and that the audience was invited to play along too. I must admit I was shocked to see her come in under her time limits on a few things, but she did it and by golly I'll be writing those recipes down. Saving time in the kitchen means more time with family. Those who haven't tuned in yet, find out what channel and the time, I assure you that you won't be disappointed.   \n",
              "freq                                                                                                                                                                                                                                                                                                                                                                                                                                                                                                                                                                                                                                                                                                                                                                                                                           5   \n",
              "\n",
              "       sentiment  \n",
              "count      50000  \n",
              "unique         2  \n",
              "top     positive  \n",
              "freq       25000  "
            ],
            "text/html": [
              "\n",
              "  <div id=\"df-1292a74d-15f9-4edf-9e42-0854b280d264\">\n",
              "    <div class=\"colab-df-container\">\n",
              "      <div>\n",
              "<style scoped>\n",
              "    .dataframe tbody tr th:only-of-type {\n",
              "        vertical-align: middle;\n",
              "    }\n",
              "\n",
              "    .dataframe tbody tr th {\n",
              "        vertical-align: top;\n",
              "    }\n",
              "\n",
              "    .dataframe thead th {\n",
              "        text-align: right;\n",
              "    }\n",
              "</style>\n",
              "<table border=\"1\" class=\"dataframe\">\n",
              "  <thead>\n",
              "    <tr style=\"text-align: right;\">\n",
              "      <th></th>\n",
              "      <th>review</th>\n",
              "      <th>sentiment</th>\n",
              "    </tr>\n",
              "  </thead>\n",
              "  <tbody>\n",
              "    <tr>\n",
              "      <th>count</th>\n",
              "      <td>50000</td>\n",
              "      <td>50000</td>\n",
              "    </tr>\n",
              "    <tr>\n",
              "      <th>unique</th>\n",
              "      <td>49582</td>\n",
              "      <td>2</td>\n",
              "    </tr>\n",
              "    <tr>\n",
              "      <th>top</th>\n",
              "      <td>Loved today's show!!! It was a variety and not solely cooking (which would have been great too). Very stimulating and captivating, always keeping the viewer peeking around the corner to see what was coming up next. She is as down to earth and as personable as you get, like one of us which made the show all the more enjoyable. Special guests, who are friends as well made for a nice surprise too. Loved the 'first' theme and that the audience was invited to play along too. I must admit I was shocked to see her come in under her time limits on a few things, but she did it and by golly I'll be writing those recipes down. Saving time in the kitchen means more time with family. Those who haven't tuned in yet, find out what channel and the time, I assure you that you won't be disappointed.</td>\n",
              "      <td>positive</td>\n",
              "    </tr>\n",
              "    <tr>\n",
              "      <th>freq</th>\n",
              "      <td>5</td>\n",
              "      <td>25000</td>\n",
              "    </tr>\n",
              "  </tbody>\n",
              "</table>\n",
              "</div>\n",
              "      <button class=\"colab-df-convert\" onclick=\"convertToInteractive('df-1292a74d-15f9-4edf-9e42-0854b280d264')\"\n",
              "              title=\"Convert this dataframe to an interactive table.\"\n",
              "              style=\"display:none;\">\n",
              "        \n",
              "  <svg xmlns=\"http://www.w3.org/2000/svg\" height=\"24px\"viewBox=\"0 0 24 24\"\n",
              "       width=\"24px\">\n",
              "    <path d=\"M0 0h24v24H0V0z\" fill=\"none\"/>\n",
              "    <path d=\"M18.56 5.44l.94 2.06.94-2.06 2.06-.94-2.06-.94-.94-2.06-.94 2.06-2.06.94zm-11 1L8.5 8.5l.94-2.06 2.06-.94-2.06-.94L8.5 2.5l-.94 2.06-2.06.94zm10 10l.94 2.06.94-2.06 2.06-.94-2.06-.94-.94-2.06-.94 2.06-2.06.94z\"/><path d=\"M17.41 7.96l-1.37-1.37c-.4-.4-.92-.59-1.43-.59-.52 0-1.04.2-1.43.59L10.3 9.45l-7.72 7.72c-.78.78-.78 2.05 0 2.83L4 21.41c.39.39.9.59 1.41.59.51 0 1.02-.2 1.41-.59l7.78-7.78 2.81-2.81c.8-.78.8-2.07 0-2.86zM5.41 20L4 18.59l7.72-7.72 1.47 1.35L5.41 20z\"/>\n",
              "  </svg>\n",
              "      </button>\n",
              "      \n",
              "  <style>\n",
              "    .colab-df-container {\n",
              "      display:flex;\n",
              "      flex-wrap:wrap;\n",
              "      gap: 12px;\n",
              "    }\n",
              "\n",
              "    .colab-df-convert {\n",
              "      background-color: #E8F0FE;\n",
              "      border: none;\n",
              "      border-radius: 50%;\n",
              "      cursor: pointer;\n",
              "      display: none;\n",
              "      fill: #1967D2;\n",
              "      height: 32px;\n",
              "      padding: 0 0 0 0;\n",
              "      width: 32px;\n",
              "    }\n",
              "\n",
              "    .colab-df-convert:hover {\n",
              "      background-color: #E2EBFA;\n",
              "      box-shadow: 0px 1px 2px rgba(60, 64, 67, 0.3), 0px 1px 3px 1px rgba(60, 64, 67, 0.15);\n",
              "      fill: #174EA6;\n",
              "    }\n",
              "\n",
              "    [theme=dark] .colab-df-convert {\n",
              "      background-color: #3B4455;\n",
              "      fill: #D2E3FC;\n",
              "    }\n",
              "\n",
              "    [theme=dark] .colab-df-convert:hover {\n",
              "      background-color: #434B5C;\n",
              "      box-shadow: 0px 1px 3px 1px rgba(0, 0, 0, 0.15);\n",
              "      filter: drop-shadow(0px 1px 2px rgba(0, 0, 0, 0.3));\n",
              "      fill: #FFFFFF;\n",
              "    }\n",
              "  </style>\n",
              "\n",
              "      <script>\n",
              "        const buttonEl =\n",
              "          document.querySelector('#df-1292a74d-15f9-4edf-9e42-0854b280d264 button.colab-df-convert');\n",
              "        buttonEl.style.display =\n",
              "          google.colab.kernel.accessAllowed ? 'block' : 'none';\n",
              "\n",
              "        async function convertToInteractive(key) {\n",
              "          const element = document.querySelector('#df-1292a74d-15f9-4edf-9e42-0854b280d264');\n",
              "          const dataTable =\n",
              "            await google.colab.kernel.invokeFunction('convertToInteractive',\n",
              "                                                     [key], {});\n",
              "          if (!dataTable) return;\n",
              "\n",
              "          const docLinkHtml = 'Like what you see? Visit the ' +\n",
              "            '<a target=\"_blank\" href=https://colab.research.google.com/notebooks/data_table.ipynb>data table notebook</a>'\n",
              "            + ' to learn more about interactive tables.';\n",
              "          element.innerHTML = '';\n",
              "          dataTable['output_type'] = 'display_data';\n",
              "          await google.colab.output.renderOutput(dataTable, element);\n",
              "          const docLink = document.createElement('div');\n",
              "          docLink.innerHTML = docLinkHtml;\n",
              "          element.appendChild(docLink);\n",
              "        }\n",
              "      </script>\n",
              "    </div>\n",
              "  </div>\n",
              "  "
            ]
          },
          "metadata": {},
          "execution_count": 5
        }
      ],
      "source": [
        "df.describe()"
      ]
    },
    {
      "cell_type": "code",
      "execution_count": null,
      "id": "b8cbe8b9",
      "metadata": {
        "execution": {
          "iopub.execute_input": "2023-03-14T11:24:14.045821Z",
          "iopub.status.busy": "2023-03-14T11:24:14.044872Z",
          "iopub.status.idle": "2023-03-14T11:24:14.054849Z",
          "shell.execute_reply": "2023-03-14T11:24:14.053765Z"
        },
        "papermill": {
          "duration": 0.02433,
          "end_time": "2023-03-14T11:24:14.057644",
          "exception": false,
          "start_time": "2023-03-14T11:24:14.033314",
          "status": "completed"
        },
        "tags": [],
        "colab": {
          "base_uri": "https://localhost:8080/"
        },
        "id": "b8cbe8b9",
        "outputId": "5a677f7d-7dcc-41ad-a2a6-2b7332b5dc08"
      },
      "outputs": [
        {
          "output_type": "execute_result",
          "data": {
            "text/plain": [
              "positive    25000\n",
              "negative    25000\n",
              "Name: sentiment, dtype: int64"
            ]
          },
          "metadata": {},
          "execution_count": 6
        }
      ],
      "source": [
        "df['sentiment'].value_counts()"
      ]
    },
    {
      "cell_type": "code",
      "execution_count": null,
      "id": "fb110356",
      "metadata": {
        "execution": {
          "iopub.execute_input": "2023-03-14T11:24:14.081073Z",
          "iopub.status.busy": "2023-03-14T11:24:14.080138Z",
          "iopub.status.idle": "2023-03-14T11:24:14.124214Z",
          "shell.execute_reply": "2023-03-14T11:24:14.123059Z"
        },
        "papermill": {
          "duration": 0.058935,
          "end_time": "2023-03-14T11:24:14.127225",
          "exception": false,
          "start_time": "2023-03-14T11:24:14.068290",
          "status": "completed"
        },
        "tags": [],
        "colab": {
          "base_uri": "https://localhost:8080/",
          "height": 271
        },
        "id": "fb110356",
        "outputId": "d41ff3c1-4e46-43e2-d7dc-1bc8fc61c25b"
      },
      "outputs": [
        {
          "output_type": "execute_result",
          "data": {
            "text/plain": [
              "                                                                                                                                                                                                                                                                                                                                                                                                                                                                                                                                                                                                                                                                                                                                                                                                                          review  \\\n",
              "count                                                                                                                                                                                                                                                                                                                                                                                                                                                                                                                                                                                                                                                                                                                                                                                                                      50000   \n",
              "unique                                                                                                                                                                                                                                                                                                                                                                                                                                                                                                                                                                                                                                                                                                                                                                                                                     49582   \n",
              "top     Loved today's show!!! It was a variety and not solely cooking (which would have been great too). Very stimulating and captivating, always keeping the viewer peeking around the corner to see what was coming up next. She is as down to earth and as personable as you get, like one of us which made the show all the more enjoyable. Special guests, who are friends as well made for a nice surprise too. Loved the 'first' theme and that the audience was invited to play along too. I must admit I was shocked to see her come in under her time limits on a few things, but she did it and by golly I'll be writing those recipes down. Saving time in the kitchen means more time with family. Those who haven't tuned in yet, find out what channel and the time, I assure you that you won't be disappointed.   \n",
              "freq                                                                                                                                                                                                                                                                                                                                                                                                                                                                                                                                                                                                                                                                                                                                                                                                                           5   \n",
              "\n",
              "       sentiment  \n",
              "count      50000  \n",
              "unique         2  \n",
              "top     positive  \n",
              "freq       25000  "
            ],
            "text/html": [
              "\n",
              "  <div id=\"df-07a51ff5-e4ed-4ce0-8f95-6f5d7b830076\">\n",
              "    <div class=\"colab-df-container\">\n",
              "      <div>\n",
              "<style scoped>\n",
              "    .dataframe tbody tr th:only-of-type {\n",
              "        vertical-align: middle;\n",
              "    }\n",
              "\n",
              "    .dataframe tbody tr th {\n",
              "        vertical-align: top;\n",
              "    }\n",
              "\n",
              "    .dataframe thead th {\n",
              "        text-align: right;\n",
              "    }\n",
              "</style>\n",
              "<table border=\"1\" class=\"dataframe\">\n",
              "  <thead>\n",
              "    <tr style=\"text-align: right;\">\n",
              "      <th></th>\n",
              "      <th>review</th>\n",
              "      <th>sentiment</th>\n",
              "    </tr>\n",
              "  </thead>\n",
              "  <tbody>\n",
              "    <tr>\n",
              "      <th>count</th>\n",
              "      <td>50000</td>\n",
              "      <td>50000</td>\n",
              "    </tr>\n",
              "    <tr>\n",
              "      <th>unique</th>\n",
              "      <td>49582</td>\n",
              "      <td>2</td>\n",
              "    </tr>\n",
              "    <tr>\n",
              "      <th>top</th>\n",
              "      <td>Loved today's show!!! It was a variety and not solely cooking (which would have been great too). Very stimulating and captivating, always keeping the viewer peeking around the corner to see what was coming up next. She is as down to earth and as personable as you get, like one of us which made the show all the more enjoyable. Special guests, who are friends as well made for a nice surprise too. Loved the 'first' theme and that the audience was invited to play along too. I must admit I was shocked to see her come in under her time limits on a few things, but she did it and by golly I'll be writing those recipes down. Saving time in the kitchen means more time with family. Those who haven't tuned in yet, find out what channel and the time, I assure you that you won't be disappointed.</td>\n",
              "      <td>positive</td>\n",
              "    </tr>\n",
              "    <tr>\n",
              "      <th>freq</th>\n",
              "      <td>5</td>\n",
              "      <td>25000</td>\n",
              "    </tr>\n",
              "  </tbody>\n",
              "</table>\n",
              "</div>\n",
              "      <button class=\"colab-df-convert\" onclick=\"convertToInteractive('df-07a51ff5-e4ed-4ce0-8f95-6f5d7b830076')\"\n",
              "              title=\"Convert this dataframe to an interactive table.\"\n",
              "              style=\"display:none;\">\n",
              "        \n",
              "  <svg xmlns=\"http://www.w3.org/2000/svg\" height=\"24px\"viewBox=\"0 0 24 24\"\n",
              "       width=\"24px\">\n",
              "    <path d=\"M0 0h24v24H0V0z\" fill=\"none\"/>\n",
              "    <path d=\"M18.56 5.44l.94 2.06.94-2.06 2.06-.94-2.06-.94-.94-2.06-.94 2.06-2.06.94zm-11 1L8.5 8.5l.94-2.06 2.06-.94-2.06-.94L8.5 2.5l-.94 2.06-2.06.94zm10 10l.94 2.06.94-2.06 2.06-.94-2.06-.94-.94-2.06-.94 2.06-2.06.94z\"/><path d=\"M17.41 7.96l-1.37-1.37c-.4-.4-.92-.59-1.43-.59-.52 0-1.04.2-1.43.59L10.3 9.45l-7.72 7.72c-.78.78-.78 2.05 0 2.83L4 21.41c.39.39.9.59 1.41.59.51 0 1.02-.2 1.41-.59l7.78-7.78 2.81-2.81c.8-.78.8-2.07 0-2.86zM5.41 20L4 18.59l7.72-7.72 1.47 1.35L5.41 20z\"/>\n",
              "  </svg>\n",
              "      </button>\n",
              "      \n",
              "  <style>\n",
              "    .colab-df-container {\n",
              "      display:flex;\n",
              "      flex-wrap:wrap;\n",
              "      gap: 12px;\n",
              "    }\n",
              "\n",
              "    .colab-df-convert {\n",
              "      background-color: #E8F0FE;\n",
              "      border: none;\n",
              "      border-radius: 50%;\n",
              "      cursor: pointer;\n",
              "      display: none;\n",
              "      fill: #1967D2;\n",
              "      height: 32px;\n",
              "      padding: 0 0 0 0;\n",
              "      width: 32px;\n",
              "    }\n",
              "\n",
              "    .colab-df-convert:hover {\n",
              "      background-color: #E2EBFA;\n",
              "      box-shadow: 0px 1px 2px rgba(60, 64, 67, 0.3), 0px 1px 3px 1px rgba(60, 64, 67, 0.15);\n",
              "      fill: #174EA6;\n",
              "    }\n",
              "\n",
              "    [theme=dark] .colab-df-convert {\n",
              "      background-color: #3B4455;\n",
              "      fill: #D2E3FC;\n",
              "    }\n",
              "\n",
              "    [theme=dark] .colab-df-convert:hover {\n",
              "      background-color: #434B5C;\n",
              "      box-shadow: 0px 1px 3px 1px rgba(0, 0, 0, 0.15);\n",
              "      filter: drop-shadow(0px 1px 2px rgba(0, 0, 0, 0.3));\n",
              "      fill: #FFFFFF;\n",
              "    }\n",
              "  </style>\n",
              "\n",
              "      <script>\n",
              "        const buttonEl =\n",
              "          document.querySelector('#df-07a51ff5-e4ed-4ce0-8f95-6f5d7b830076 button.colab-df-convert');\n",
              "        buttonEl.style.display =\n",
              "          google.colab.kernel.accessAllowed ? 'block' : 'none';\n",
              "\n",
              "        async function convertToInteractive(key) {\n",
              "          const element = document.querySelector('#df-07a51ff5-e4ed-4ce0-8f95-6f5d7b830076');\n",
              "          const dataTable =\n",
              "            await google.colab.kernel.invokeFunction('convertToInteractive',\n",
              "                                                     [key], {});\n",
              "          if (!dataTable) return;\n",
              "\n",
              "          const docLinkHtml = 'Like what you see? Visit the ' +\n",
              "            '<a target=\"_blank\" href=https://colab.research.google.com/notebooks/data_table.ipynb>data table notebook</a>'\n",
              "            + ' to learn more about interactive tables.';\n",
              "          element.innerHTML = '';\n",
              "          dataTable['output_type'] = 'display_data';\n",
              "          await google.colab.output.renderOutput(dataTable, element);\n",
              "          const docLink = document.createElement('div');\n",
              "          docLink.innerHTML = docLinkHtml;\n",
              "          element.appendChild(docLink);\n",
              "        }\n",
              "      </script>\n",
              "    </div>\n",
              "  </div>\n",
              "  "
            ]
          },
          "metadata": {},
          "execution_count": 7
        }
      ],
      "source": [
        "df.describe()"
      ]
    },
    {
      "cell_type": "code",
      "execution_count": null,
      "id": "14597fa5",
      "metadata": {
        "execution": {
          "iopub.execute_input": "2023-03-14T11:24:14.172271Z",
          "iopub.status.busy": "2023-03-14T11:24:14.171943Z",
          "iopub.status.idle": "2023-03-14T11:24:14.349761Z",
          "shell.execute_reply": "2023-03-14T11:24:14.348597Z"
        },
        "papermill": {
          "duration": 0.193368,
          "end_time": "2023-03-14T11:24:14.353141",
          "exception": false,
          "start_time": "2023-03-14T11:24:14.159773",
          "status": "completed"
        },
        "tags": [],
        "colab": {
          "base_uri": "https://localhost:8080/"
        },
        "id": "14597fa5",
        "outputId": "43780252-19ed-48e7-eaa4-aca179e2b3b9"
      },
      "outputs": [
        {
          "output_type": "stream",
          "name": "stdout",
          "text": [
            "418\n",
            "review       0\n",
            "sentiment    0\n",
            "dtype: int64\n"
          ]
        }
      ],
      "source": [
        "print(df.duplicated().sum())\n",
        "print(df.isnull().sum())"
      ]
    },
    {
      "cell_type": "code",
      "execution_count": null,
      "id": "3f3e7f0d",
      "metadata": {
        "execution": {
          "iopub.execute_input": "2023-03-14T11:24:14.400751Z",
          "iopub.status.busy": "2023-03-14T11:24:14.399710Z",
          "iopub.status.idle": "2023-03-14T11:24:14.405074Z",
          "shell.execute_reply": "2023-03-14T11:24:14.404123Z"
        },
        "papermill": {
          "duration": 0.019602,
          "end_time": "2023-03-14T11:24:14.407435",
          "exception": false,
          "start_time": "2023-03-14T11:24:14.387833",
          "status": "completed"
        },
        "tags": [],
        "id": "3f3e7f0d"
      },
      "outputs": [],
      "source": [
        "X = df['review'][:10000]\n",
        "y = df['sentiment'][:10000]"
      ]
    },
    {
      "cell_type": "code",
      "execution_count": null,
      "id": "8032c2e8",
      "metadata": {
        "execution": {
          "iopub.execute_input": "2023-03-14T11:24:14.453430Z",
          "iopub.status.busy": "2023-03-14T11:24:14.452471Z",
          "iopub.status.idle": "2023-03-14T11:24:14.659490Z",
          "shell.execute_reply": "2023-03-14T11:24:14.658370Z"
        },
        "papermill": {
          "duration": 0.224309,
          "end_time": "2023-03-14T11:24:14.663948",
          "exception": false,
          "start_time": "2023-03-14T11:24:14.439639",
          "status": "completed"
        },
        "tags": [],
        "id": "8032c2e8",
        "colab": {
          "base_uri": "https://localhost:8080/"
        },
        "outputId": "15824430-03bc-4b86-c539-fa55cfcf48e8"
      },
      "outputs": [
        {
          "output_type": "execute_result",
          "data": {
            "text/plain": [
              "array([1, 1, 1, ..., 0, 0, 1])"
            ]
          },
          "metadata": {},
          "execution_count": 10
        }
      ],
      "source": [
        "from sklearn.preprocessing import LabelEncoder\n",
        "le = LabelEncoder()\n",
        "y = le.fit_transform(y)\n",
        "y"
      ]
    },
    {
      "cell_type": "code",
      "execution_count": null,
      "id": "adba606c",
      "metadata": {
        "execution": {
          "iopub.execute_input": "2023-03-14T11:24:14.749022Z",
          "iopub.status.busy": "2023-03-14T11:24:14.748202Z",
          "iopub.status.idle": "2023-03-14T11:24:14.759045Z",
          "shell.execute_reply": "2023-03-14T11:24:14.758128Z"
        },
        "papermill": {
          "duration": 0.030626,
          "end_time": "2023-03-14T11:24:14.761949",
          "exception": false,
          "start_time": "2023-03-14T11:24:14.731323",
          "status": "completed"
        },
        "tags": [],
        "colab": {
          "base_uri": "https://localhost:8080/"
        },
        "id": "adba606c",
        "outputId": "bdbcb7b1-572c-4abe-974d-8204a8c45364"
      },
      "outputs": [
        {
          "output_type": "execute_result",
          "data": {
            "text/plain": [
              "array(['negative', 'positive'], dtype=object)"
            ]
          },
          "metadata": {},
          "execution_count": 11
        }
      ],
      "source": [
        "le.classes_"
      ]
    },
    {
      "cell_type": "code",
      "execution_count": null,
      "id": "05498cf9",
      "metadata": {
        "execution": {
          "iopub.execute_input": "2023-03-14T11:24:14.828585Z",
          "iopub.status.busy": "2023-03-14T11:24:14.827999Z",
          "iopub.status.idle": "2023-03-14T11:24:14.919609Z",
          "shell.execute_reply": "2023-03-14T11:24:14.918508Z"
        },
        "papermill": {
          "duration": 0.11194,
          "end_time": "2023-03-14T11:24:14.922867",
          "exception": false,
          "start_time": "2023-03-14T11:24:14.810927",
          "status": "completed"
        },
        "tags": [],
        "id": "05498cf9"
      },
      "outputs": [],
      "source": [
        "from sklearn.model_selection import train_test_split\n",
        "X_train, X_test, y_train, y_test = train_test_split(X, y, test_size = 0.2)"
      ]
    },
    {
      "cell_type": "code",
      "execution_count": null,
      "id": "65ea7d25",
      "metadata": {
        "execution": {
          "iopub.execute_input": "2023-03-14T11:24:14.962797Z",
          "iopub.status.busy": "2023-03-14T11:24:14.962395Z",
          "iopub.status.idle": "2023-03-14T11:24:14.967886Z",
          "shell.execute_reply": "2023-03-14T11:24:14.966929Z"
        },
        "papermill": {
          "duration": 0.029833,
          "end_time": "2023-03-14T11:24:14.972417",
          "exception": false,
          "start_time": "2023-03-14T11:24:14.942584",
          "status": "completed"
        },
        "tags": [],
        "id": "65ea7d25"
      },
      "outputs": [],
      "source": [
        "y_train = y_train.astype('float32').reshape((-1, 1))\n",
        "y_test = y_test.astype('float32').reshape((-1, 1))"
      ]
    },
    {
      "cell_type": "code",
      "execution_count": null,
      "id": "304fe88a",
      "metadata": {
        "execution": {
          "iopub.execute_input": "2023-03-14T11:24:15.005242Z",
          "iopub.status.busy": "2023-03-14T11:24:15.004871Z",
          "iopub.status.idle": "2023-03-14T11:24:15.010733Z",
          "shell.execute_reply": "2023-03-14T11:24:15.009672Z"
        },
        "papermill": {
          "duration": 0.027968,
          "end_time": "2023-03-14T11:24:15.016332",
          "exception": false,
          "start_time": "2023-03-14T11:24:14.988364",
          "status": "completed"
        },
        "tags": [],
        "colab": {
          "base_uri": "https://localhost:8080/"
        },
        "id": "304fe88a",
        "outputId": "96de746c-6d42-450e-9bca-6bef654b82be"
      },
      "outputs": [
        {
          "output_type": "stream",
          "name": "stdout",
          "text": [
            "(8000,) (2000,)\n",
            "(8000, 1) (2000, 1)\n"
          ]
        }
      ],
      "source": [
        "print(X_train.shape, X_test.shape)\n",
        "print(y_train.shape, y_test.shape)"
      ]
    },
    {
      "cell_type": "code",
      "execution_count": null,
      "id": "8bd60041",
      "metadata": {
        "execution": {
          "iopub.execute_input": "2023-03-14T11:24:15.091395Z",
          "iopub.status.busy": "2023-03-14T11:24:15.090900Z",
          "iopub.status.idle": "2023-03-14T11:24:15.101506Z",
          "shell.execute_reply": "2023-03-14T11:24:15.100574Z"
        },
        "papermill": {
          "duration": 0.035671,
          "end_time": "2023-03-14T11:24:15.104270",
          "exception": false,
          "start_time": "2023-03-14T11:24:15.068599",
          "status": "completed"
        },
        "tags": [],
        "id": "8bd60041"
      },
      "outputs": [],
      "source": [
        "from tensorflow.keras.layers import TextVectorization\n",
        "from tensorflow.keras.layers import Conv1D, Flatten, MaxPooling1D, Dense, LSTM, Embedding, Input\n",
        "from tensorflow.keras.models import Sequential\n",
        "from tensorflow.keras.regularizers import l2\n",
        "\n",
        "max_len = 512"
      ]
    },
    {
      "cell_type": "code",
      "execution_count": null,
      "id": "cf6f91ee",
      "metadata": {
        "execution": {
          "iopub.execute_input": "2023-03-14T11:24:15.138569Z",
          "iopub.status.busy": "2023-03-14T11:24:15.138244Z",
          "iopub.status.idle": "2023-03-14T11:24:18.835202Z",
          "shell.execute_reply": "2023-03-14T11:24:18.834125Z"
        },
        "papermill": {
          "duration": 3.717296,
          "end_time": "2023-03-14T11:24:18.838098",
          "exception": false,
          "start_time": "2023-03-14T11:24:15.120802",
          "status": "completed"
        },
        "tags": [],
        "id": "cf6f91ee"
      },
      "outputs": [],
      "source": [
        "vectorize_layer = TextVectorization(output_mode = 'int', output_sequence_length = max_len)"
      ]
    },
    {
      "cell_type": "code",
      "execution_count": null,
      "id": "89a7a2ae",
      "metadata": {
        "execution": {
          "iopub.execute_input": "2023-03-14T11:24:18.883597Z",
          "iopub.status.busy": "2023-03-14T11:24:18.883292Z",
          "iopub.status.idle": "2023-03-14T11:24:24.290348Z",
          "shell.execute_reply": "2023-03-14T11:24:24.288865Z"
        },
        "papermill": {
          "duration": 5.421646,
          "end_time": "2023-03-14T11:24:24.292829",
          "exception": false,
          "start_time": "2023-03-14T11:24:18.871183",
          "status": "completed"
        },
        "tags": [],
        "colab": {
          "base_uri": "https://localhost:8080/"
        },
        "id": "89a7a2ae",
        "outputId": "9e190b84-a02d-43ec-c04d-26531c7ee575"
      },
      "outputs": [
        {
          "output_type": "stream",
          "name": "stdout",
          "text": [
            "CPU times: user 1.14 s, sys: 93 ms, total: 1.23 s\n",
            "Wall time: 1.5 s\n"
          ]
        }
      ],
      "source": [
        "%%time\n",
        "vectorize_layer.adapt(X_train) "
      ]
    },
    {
      "cell_type": "code",
      "execution_count": null,
      "id": "eed012a1",
      "metadata": {
        "execution": {
          "iopub.execute_input": "2023-03-14T11:24:24.317364Z",
          "iopub.status.busy": "2023-03-14T11:24:24.317008Z",
          "iopub.status.idle": "2023-03-14T11:24:24.762211Z",
          "shell.execute_reply": "2023-03-14T11:24:24.761103Z"
        },
        "papermill": {
          "duration": 0.460327,
          "end_time": "2023-03-14T11:24:24.764631",
          "exception": false,
          "start_time": "2023-03-14T11:24:24.304304",
          "status": "completed"
        },
        "tags": [],
        "colab": {
          "base_uri": "https://localhost:8080/"
        },
        "id": "eed012a1",
        "outputId": "aa431456-7428-4371-a0f8-a4d22884b92c"
      },
      "outputs": [
        {
          "output_type": "execute_result",
          "data": {
            "text/plain": [
              "66870"
            ]
          },
          "metadata": {},
          "execution_count": 18
        }
      ],
      "source": [
        "vocab_len = len(vectorize_layer.get_vocabulary())\n",
        "vocab_len"
      ]
    },
    {
      "cell_type": "code",
      "execution_count": null,
      "id": "e32eff40",
      "metadata": {
        "execution": {
          "iopub.execute_input": "2023-03-14T11:24:24.790254Z",
          "iopub.status.busy": "2023-03-14T11:24:24.788487Z",
          "iopub.status.idle": "2023-03-14T11:24:25.451281Z",
          "shell.execute_reply": "2023-03-14T11:24:25.450089Z"
        },
        "papermill": {
          "duration": 0.678025,
          "end_time": "2023-03-14T11:24:25.454190",
          "exception": false,
          "start_time": "2023-03-14T11:24:24.776165",
          "status": "completed"
        },
        "tags": [],
        "id": "e32eff40"
      },
      "outputs": [],
      "source": [
        "model = Sequential()\n",
        "model.add(Input(shape=(1,), dtype = tf.string))\n",
        "model.add(vectorize_layer)\n",
        "model.add(Embedding(input_dim = vocab_len, output_dim = 256, input_length= max_len))\n",
        "model.add(Conv1D(32, 5, strides = 1,activation= 'relu', padding = 'same', kernel_regularizer = l2(0.0001)))\n",
        "model.add(Conv1D(16, 5, strides = 1,activation= 'relu', padding = 'same', kernel_regularizer = l2(0.0001)))\n",
        "model.add(MaxPooling1D(4, 1, padding = 'same'))\n",
        "model.add(tf.keras.layers.Bidirectional(LSTM(64, kernel_regularizer = l2(0.0001))))\n",
        "model.add(Dense(32, activation = 'relu', kernel_regularizer = l2(0.0001)))\n",
        "model.add(Dense(16, activation = 'relu', kernel_regularizer = l2(0.0001)))\n",
        "model.add(Flatten())\n",
        "model.add(Dense(1, activation = 'sigmoid'))"
      ]
    },
    {
      "cell_type": "code",
      "execution_count": null,
      "id": "c21f27da",
      "metadata": {
        "execution": {
          "iopub.execute_input": "2023-03-14T11:24:25.478601Z",
          "iopub.status.busy": "2023-03-14T11:24:25.478282Z",
          "iopub.status.idle": "2023-03-14T11:24:25.486217Z",
          "shell.execute_reply": "2023-03-14T11:24:25.485405Z"
        },
        "papermill": {
          "duration": 0.022763,
          "end_time": "2023-03-14T11:24:25.488561",
          "exception": false,
          "start_time": "2023-03-14T11:24:25.465798",
          "status": "completed"
        },
        "tags": [],
        "id": "c21f27da"
      },
      "outputs": [],
      "source": [
        "optimizer = tf.keras.optimizers.Adam(learning_rate = 0.001)"
      ]
    },
    {
      "cell_type": "code",
      "execution_count": null,
      "id": "ddc97f52",
      "metadata": {
        "execution": {
          "iopub.execute_input": "2023-03-14T11:24:25.512031Z",
          "iopub.status.busy": "2023-03-14T11:24:25.511752Z",
          "iopub.status.idle": "2023-03-14T11:24:25.561162Z",
          "shell.execute_reply": "2023-03-14T11:24:25.559698Z"
        },
        "papermill": {
          "duration": 0.082165,
          "end_time": "2023-03-14T11:24:25.581672",
          "exception": false,
          "start_time": "2023-03-14T11:24:25.499507",
          "status": "completed"
        },
        "tags": [],
        "colab": {
          "base_uri": "https://localhost:8080/"
        },
        "id": "ddc97f52",
        "outputId": "58aa0cf1-0dee-4805-f5cf-503dba8bd120"
      },
      "outputs": [
        {
          "output_type": "stream",
          "name": "stdout",
          "text": [
            "Model: \"sequential\"\n",
            "_________________________________________________________________\n",
            " Layer (type)                Output Shape              Param #   \n",
            "=================================================================\n",
            " text_vectorization (TextVec  (None, 512)              0         \n",
            " torization)                                                     \n",
            "                                                                 \n",
            " embedding (Embedding)       (None, 512, 256)          17118720  \n",
            "                                                                 \n",
            " conv1d (Conv1D)             (None, 512, 32)           40992     \n",
            "                                                                 \n",
            " conv1d_1 (Conv1D)           (None, 512, 16)           2576      \n",
            "                                                                 \n",
            " max_pooling1d (MaxPooling1D  (None, 512, 16)          0         \n",
            " )                                                               \n",
            "                                                                 \n",
            " bidirectional (Bidirectiona  (None, 128)              41472     \n",
            " l)                                                              \n",
            "                                                                 \n",
            " dense (Dense)               (None, 32)                4128      \n",
            "                                                                 \n",
            " dense_1 (Dense)             (None, 16)                528       \n",
            "                                                                 \n",
            " flatten (Flatten)           (None, 16)                0         \n",
            "                                                                 \n",
            " dense_2 (Dense)             (None, 1)                 17        \n",
            "                                                                 \n",
            "=================================================================\n",
            "Total params: 17,208,433\n",
            "Trainable params: 17,208,433\n",
            "Non-trainable params: 0\n",
            "_________________________________________________________________\n"
          ]
        }
      ],
      "source": [
        "model.compile(optimizer= optimizer, loss = 'binary_crossentropy', metrics = ['accuracy'])\n",
        "model.summary()"
      ]
    },
    {
      "cell_type": "code",
      "execution_count": null,
      "id": "864879b8",
      "metadata": {
        "_kg_hide-input": true,
        "execution": {
          "iopub.execute_input": "2023-03-14T11:24:25.611012Z",
          "iopub.status.busy": "2023-03-14T11:24:25.610130Z",
          "iopub.status.idle": "2023-03-14T11:33:51.405934Z",
          "shell.execute_reply": "2023-03-14T11:33:51.404342Z"
        },
        "papermill": {
          "duration": 565.813348,
          "end_time": "2023-03-14T11:33:51.408815",
          "exception": false,
          "start_time": "2023-03-14T11:24:25.595467",
          "status": "completed"
        },
        "tags": [],
        "colab": {
          "base_uri": "https://localhost:8080/"
        },
        "id": "864879b8",
        "outputId": "c7e0797d-75c9-41d9-8ba0-98cb1440e801"
      },
      "outputs": [
        {
          "output_type": "stream",
          "name": "stdout",
          "text": [
            "Epoch 1/6\n",
            "250/250 [==============================] - 76s 243ms/step - loss: 0.6948 - accuracy: 0.5244 - val_loss: 0.6237 - val_accuracy: 0.6570\n",
            "Epoch 2/6\n",
            "250/250 [==============================] - 44s 176ms/step - loss: 0.5039 - accuracy: 0.7714 - val_loss: 0.4987 - val_accuracy: 0.7820\n",
            "Epoch 3/6\n",
            "250/250 [==============================] - 37s 150ms/step - loss: 0.2129 - accuracy: 0.9239 - val_loss: 0.3828 - val_accuracy: 0.8425\n",
            "Epoch 4/6\n",
            "250/250 [==============================] - 32s 129ms/step - loss: 0.0872 - accuracy: 0.9755 - val_loss: 0.5894 - val_accuracy: 0.8225\n",
            "Epoch 5/6\n",
            "250/250 [==============================] - 25s 98ms/step - loss: 0.0419 - accuracy: 0.9920 - val_loss: 0.6463 - val_accuracy: 0.8220\n",
            "Epoch 6/6\n",
            "250/250 [==============================] - 22s 87ms/step - loss: 0.0465 - accuracy: 0.9885 - val_loss: 0.6242 - val_accuracy: 0.8245\n",
            "CPU times: user 3min 4s, sys: 6.08 s, total: 3min 10s\n",
            "Wall time: 3min 56s\n"
          ]
        }
      ],
      "source": [
        "%%time\n",
        "hist = model.fit(X_train, y_train,\n",
        "          epochs= 6, validation_data = (X_test, y_test))"
      ]
    },
    {
      "cell_type": "code",
      "execution_count": null,
      "id": "7796c46c",
      "metadata": {
        "execution": {
          "iopub.execute_input": "2023-03-14T11:33:53.991443Z",
          "iopub.status.busy": "2023-03-14T11:33:53.990416Z",
          "iopub.status.idle": "2023-03-14T11:33:54.241305Z",
          "shell.execute_reply": "2023-03-14T11:33:54.240242Z"
        },
        "papermill": {
          "duration": 0.508607,
          "end_time": "2023-03-14T11:33:54.243656",
          "exception": false,
          "start_time": "2023-03-14T11:33:53.735049",
          "status": "completed"
        },
        "tags": [],
        "colab": {
          "base_uri": "https://localhost:8080/",
          "height": 472
        },
        "id": "7796c46c",
        "outputId": "865b1958-76d9-4722-c49b-89ca15580dc8"
      },
      "outputs": [
        {
          "output_type": "display_data",
          "data": {
            "text/plain": [
              "<Figure size 640x480 with 1 Axes>"
            ],
            "image/png": "[encoded data removed]"
          },
          "metadata": {}
        }
      ],
      "source": [
        "plt.plot(hist.history['accuracy'])\n",
        "plt.plot(hist.history['val_accuracy'])\n",
        "plt.title('Model Accuracy')\n",
        "plt.xlabel('Epoch')\n",
        "plt.ylabel('Accuracy')\n",
        "plt.legend(['train', 'val'])\n",
        "plt.show()"
      ]
    },
    {
      "cell_type": "code",
      "execution_count": null,
      "id": "b87c3ec5",
      "metadata": {
        "execution": {
          "iopub.execute_input": "2023-03-14T11:33:55.300126Z",
          "iopub.status.busy": "2023-03-14T11:33:55.299763Z",
          "iopub.status.idle": "2023-03-14T11:33:55.582680Z",
          "shell.execute_reply": "2023-03-14T11:33:55.578493Z"
        },
        "papermill": {
          "duration": 0.584001,
          "end_time": "2023-03-14T11:33:55.586076",
          "exception": false,
          "start_time": "2023-03-14T11:33:55.002075",
          "status": "completed"
        },
        "tags": [],
        "colab": {
          "base_uri": "https://localhost:8080/",
          "height": 472
        },
        "id": "b87c3ec5",
        "outputId": "62d468f2-3bb3-4aed-e70e-54197518b70b"
      },
      "outputs": [
        {
          "output_type": "display_data",
          "data": {
            "text/plain": [
              "<Figure size 640x480 with 1 Axes>"
            ],
            "image/png": "[encoded data removed]"
          },
          "metadata": {}
        }
      ],
      "source": [
        "plt.plot(hist.history['loss'])\n",
        "plt.plot(hist.history['val_loss'])\n",
        "plt.title('Model Loss')\n",
        "plt.xlabel('Epoch')\n",
        "plt.ylabel('Loss')\n",
        "plt.legend(['train', 'val'])\n",
        "plt.show()"
      ]
    },
    {
      "cell_type": "code",
      "execution_count": null,
      "id": "1f7dd5e2",
      "metadata": {
        "execution": {
          "iopub.execute_input": "2023-03-14T11:34:00.928283Z",
          "iopub.status.busy": "2023-03-14T11:34:00.927275Z",
          "iopub.status.idle": "2023-03-14T11:34:00.933642Z",
          "shell.execute_reply": "2023-03-14T11:34:00.932479Z"
        },
        "papermill": {
          "duration": 0.266398,
          "end_time": "2023-03-14T11:34:00.935884",
          "exception": false,
          "start_time": "2023-03-14T11:34:00.669486",
          "status": "completed"
        },
        "tags": [],
        "id": "1f7dd5e2"
      },
      "outputs": [],
      "source": [
        "def predict_sentiment(text, model):\n",
        "    text = [text]\n",
        "    pred = model.predict(text)\n",
        "    print(pred)\n",
        "    if pred > 0.5:\n",
        "        return \"Positive\"\n",
        "    else:\n",
        "        return \"Negative\""
      ]
    },
    {
      "cell_type": "code",
      "execution_count": null,
      "id": "46dfd206",
      "metadata": {
        "execution": {
          "iopub.execute_input": "2023-03-14T11:34:01.441000Z",
          "iopub.status.busy": "2023-03-14T11:34:01.440624Z",
          "iopub.status.idle": "2023-03-14T11:34:01.538370Z",
          "shell.execute_reply": "2023-03-14T11:34:01.537088Z"
        },
        "papermill": {
          "duration": 0.356542,
          "end_time": "2023-03-14T11:34:01.540926",
          "exception": false,
          "start_time": "2023-03-14T11:34:01.184384",
          "status": "completed"
        },
        "tags": [],
        "colab": {
          "base_uri": "https://localhost:8080/",
          "height": 70
        },
        "id": "46dfd206",
        "outputId": "b490701e-403c-45cf-d262-e1c3bb9945af"
      },
      "outputs": [
        {
          "output_type": "stream",
          "name": "stdout",
          "text": [
            "1/1 [==============================] - 1s 808ms/step\n",
            "[[0.99878615]]\n"
          ]
        },
        {
          "output_type": "execute_result",
          "data": {
            "text/plain": [
              "'Positive'"
            ],
            "application/vnd.google.colaboratory.intrinsic+json": {
              "type": "string"
            }
          },
          "metadata": {},
          "execution_count": 26
        }
      ],
      "source": [
        "pst_txt = '''One of the other reviewers has mentioned that after watching just 1 Oz episode you'll be hooked. They are right, as this is exactly what happened with me.<br /><br />The first thing that struck me about Oz was its brutality and unflinching scenes of violence, which set in right from the word GO. Trust me, this is not a show for the faint hearted or timid. This show pulls no punches with regards to drugs, sex or violence. Its is hardcore, in the classic use of the word.<br /><br />It is called OZ as that is the nickname given to the Oswald Maximum Security State Penitentary. It focuses mainly on Emerald City, an experimental section of the prison where all the cells have glass fronts and face inwards, so privacy is not high on the agenda. Em City is home to many..Aryans, Muslims, gangstas, Latinos, Christians, Italians, Irish and more....so scuffles, death stares, dodgy dealings and shady agreements are never far away.<br /><br />I would say the main appeal of the show is due to the fact that it goes where other shows wouldn't dare. Forget pretty pictures painted for mainstream audiences, forget charm, forget romance...OZ doesn't mess around. The first episode I ever saw struck me as so nasty it was surreal, I couldn't say I was ready for it, but as I watched more, I developed a taste for Oz, and got accustomed to the high levels of graphic violence. Not just violence, but injustice (crooked guards who'll be sold out for a nickel, inmates who'll kill on order and get away with it, well mannered, middle class inmates being turned into prison bitches due to their lack of street skills or prison experience) Watching Oz, you may become comfortable with what is uncomfortable viewing....thats if you can get in touch with your darker side.'''\n",
        "predict_sentiment(pst_txt, model)"
      ]
    },
    {
      "cell_type": "code",
      "execution_count": null,
      "id": "fb93ead8",
      "metadata": {
        "execution": {
          "iopub.execute_input": "2023-03-14T11:34:02.116674Z",
          "iopub.status.busy": "2023-03-14T11:34:02.116284Z",
          "iopub.status.idle": "2023-03-14T11:34:02.209489Z",
          "shell.execute_reply": "2023-03-14T11:34:02.207696Z"
        },
        "papermill": {
          "duration": 0.355528,
          "end_time": "2023-03-14T11:34:02.212405",
          "exception": false,
          "start_time": "2023-03-14T11:34:01.856877",
          "status": "completed"
        },
        "tags": [],
        "colab": {
          "base_uri": "https://localhost:8080/",
          "height": 70
        },
        "id": "fb93ead8",
        "outputId": "c7168cf2-8cd7-4736-81b7-e6fad13376b0"
      },
      "outputs": [
        {
          "output_type": "stream",
          "name": "stdout",
          "text": [
            "1/1 [==============================] - 0s 44ms/step\n",
            "[[0.00339439]]\n"
          ]
        },
        {
          "output_type": "execute_result",
          "data": {
            "text/plain": [
              "'Negative'"
            ],
            "application/vnd.google.colaboratory.intrinsic+json": {
              "type": "string"
            }
          },
          "metadata": {},
          "execution_count": 27
        }
      ],
      "source": [
        "ngt_txt ='''Basically there's a family where a little boy (Jake) thinks there's a zombie in his closet & his parents are fighting all the time.<br /><br />This movie is slower than a soap opera... and suddenly, Jake decides to become Rambo and kill the zombie.<br /><br />OK, first of all when you're going to make a film you must Decide if its a thriller or a drama! As a drama the movie is watchable. Parents are divorcing & arguing like in real life. And then we have Jake with his closet which totally ruins all the film! I expected to see a BOOGEYMAN similar movie, and instead i watched a drama with some meaningless thriller spots.<br /><br />3 out of 10 just for the well playing parents & descent dialogs. As for the shots with Jake: just ignore them.'''\n",
        "predict_sentiment(ngt_txt, model)"
      ]
    },
    {
      "cell_type": "code",
      "execution_count": null,
      "id": "d73db427",
      "metadata": {
        "execution": {
          "iopub.execute_input": "2023-03-14T11:34:02.729379Z",
          "iopub.status.busy": "2023-03-14T11:34:02.728979Z",
          "iopub.status.idle": "2023-03-14T11:34:02.831321Z",
          "shell.execute_reply": "2023-03-14T11:34:02.830207Z"
        },
        "papermill": {
          "duration": 0.358952,
          "end_time": "2023-03-14T11:34:02.833919",
          "exception": false,
          "start_time": "2023-03-14T11:34:02.474967",
          "status": "completed"
        },
        "tags": [],
        "colab": {
          "base_uri": "https://localhost:8080/",
          "height": 70
        },
        "id": "d73db427",
        "outputId": "f09f1897-53a9-49ad-eb80-8b098a76ce26"
      },
      "outputs": [
        {
          "output_type": "stream",
          "name": "stdout",
          "text": [
            "1/1 [==============================] - 0s 46ms/step\n",
            "[[0.81799823]]\n"
          ]
        },
        {
          "output_type": "execute_result",
          "data": {
            "text/plain": [
              "'Positive'"
            ],
            "application/vnd.google.colaboratory.intrinsic+json": {
              "type": "string"
            }
          },
          "metadata": {},
          "execution_count": 28
        }
      ],
      "source": [
        "ngt_txt2 = '''It's become extremely difficult to find a good horror movie anymore, thought this movie was a good thriller.<br /><br />Could have had better production values but what kept me going was the suspense and the twists. I had real reservations before seeing this movie (because of the cover). I was afraid that it would be excessively bloody and gory. I was wrong.<br /><br />Although there is a lot of scary parts, there is a lot of suspense and drama too.<br /><br />The acting in Dead Line was better than what you would expect from a micro budget horror flick. The characters were believable<br /><br />The movie is really thrilling and quite scary at moments so it makes you grab your seat until the ending credits roll<br /><br />Because of its production values (the sound is not very good for example) 8/10.'''\n",
        "predict_sentiment(ngt_txt2, model)"
      ]
    },
    {
      "cell_type": "code",
      "execution_count": null,
      "id": "56d7f450",
      "metadata": {
        "execution": {
          "iopub.execute_input": "2023-03-14T11:34:03.357909Z",
          "iopub.status.busy": "2023-03-14T11:34:03.357304Z",
          "iopub.status.idle": "2023-03-14T11:34:03.453795Z",
          "shell.execute_reply": "2023-03-14T11:34:03.452499Z"
        },
        "papermill": {
          "duration": 0.355037,
          "end_time": "2023-03-14T11:34:03.456429",
          "exception": false,
          "start_time": "2023-03-14T11:34:03.101392",
          "status": "completed"
        },
        "tags": [],
        "colab": {
          "base_uri": "https://localhost:8080/",
          "height": 70
        },
        "id": "56d7f450",
        "outputId": "c9144616-52d9-4aa3-e8de-965e2a3098f6"
      },
      "outputs": [
        {
          "output_type": "stream",
          "name": "stdout",
          "text": [
            "1/1 [==============================] - 0s 46ms/step\n",
            "[[0.9982451]]\n"
          ]
        },
        {
          "output_type": "execute_result",
          "data": {
            "text/plain": [
              "'Positive'"
            ],
            "application/vnd.google.colaboratory.intrinsic+json": {
              "type": "string"
            }
          },
          "metadata": {},
          "execution_count": 29
        }
      ],
      "source": [
        "text3 = '''This movie is incredible. If you have the chance, watch it. Although, a warning, you'll cry your eyes out. I do, every time I see it, and I own it and have watched it many times. The performances are outstanding. It deals with darkness and pain and loss, but there is hope. This movie made me look at the world differently: vicarious experience, according to my English teacher. Also, if you've seen it, note the interesting use of shadows and light. Home room is a phenomenal movie, and I rate it 10/10 - for real - because of the excellent acting, amazing plot, and heart-wrenching dialogue. Very tense, very moving. Doesn't give all the answers, but makes many good points about humankind'''\n",
        "predict_sentiment(text3, model)"
      ]
    },
    {
      "cell_type": "code",
      "execution_count": null,
      "id": "79dd7fec",
      "metadata": {
        "execution": {
          "iopub.execute_input": "2023-03-14T11:34:28.164733Z",
          "iopub.status.busy": "2023-03-14T11:34:28.164324Z",
          "iopub.status.idle": "2023-03-14T11:34:29.256676Z",
          "shell.execute_reply": "2023-03-14T11:34:29.255289Z"
        },
        "papermill": {
          "duration": 1.369992,
          "end_time": "2023-03-14T11:34:29.259215",
          "exception": false,
          "start_time": "2023-03-14T11:34:27.889223",
          "status": "completed"
        },
        "tags": [],
        "colab": {
          "base_uri": "https://localhost:8080/",
          "height": 70
        },
        "id": "79dd7fec",
        "outputId": "44974e2c-2b34-42f8-bc5f-33a707aaba46"
      },
      "outputs": [
        {
          "output_type": "stream",
          "name": "stdout",
          "text": [
            "1/1 [==============================] - 0s 43ms/step\n",
            "[[0.00228904]]\n"
          ]
        },
        {
          "output_type": "execute_result",
          "data": {
            "text/plain": [
              "'Negative'"
            ],
            "application/vnd.google.colaboratory.intrinsic+json": {
              "type": "string"
            }
          },
          "metadata": {},
          "execution_count": 30
        }
      ],
      "source": [
        "txt = '''What a frustrating movie. A small Southern town is overflowing with possibilities for exploring the complexities of interpersonal relationships and dark underbellies hidden beneath placid surfaces, as anyone who has read anything by Carson McCullers already knows. This does none of that. Instead, the writers settled for cutesy twinkles, cheap warm fuzzies and banal melodrama. The thing looks like a made-for-TV movie, and was directed with no particular distinction, but it's hard to imagine what anyone could have done to make this material interesting.<br /><br />The most frustrating aspect, though, is the fact that there are a lot of extremely competent and appealing actors in this cast, all trying gamely to make the best of things and do what they can with this--well, there's no other word for it--drivel. A tragic waste of talent, in particular that of the great Stockard Channing.'''\n",
        "predict_sentiment(txt, model)"
      ]
    },
    {
      "cell_type": "code",
      "source": [
        "eval = model.evaluate(X_test, y_test)\n",
        "print(f\"Accuracy : {eval[1]*100}%\")"
      ],
      "metadata": {
        "colab": {
          "base_uri": "https://localhost:8080/"
        },
        "id": "d2ro-l_jUt2g",
        "outputId": "a20d285f-607e-4bb6-c1cf-620d25a5578c"
      },
      "id": "d2ro-l_jUt2g",
      "execution_count": null,
      "outputs": [
        {
          "output_type": "stream",
          "name": "stdout",
          "text": [
            "63/63 [==============================] - 2s 32ms/step - loss: 0.6242 - accuracy: 0.8245\n",
            "Accuracy : 82.4500024318695%\n"
          ]
        }
      ]
    }
  ],
  "metadata": {
    "kernelspec": {
      "display_name": "Python 3",
      "language": "python",
      "name": "python3"
    },
    "language_info": {
      "codemirror_mode": {
        "name": "ipython",
        "version": 3
      },
      "file_extension": ".py",
      "mimetype": "text/x-python",
      "name": "python",
      "nbconvert_exporter": "python",
      "pygments_lexer": "ipython3",
      "version": "3.7.12"
    },
    "papermill": {
      "default_parameters": {},
      "duration": 639.44733,
      "end_time": "2023-03-14T11:34:33.075342",
      "environment_variables": {},
      "exception": null,
      "input_path": "__notebook__.ipynb",
      "output_path": "__notebook__.ipynb",
      "parameters": {},
      "start_time": "2023-03-14T11:23:53.628012",
      "version": "2.4.0"
    },
    "colab": {
      "provenance": []
    },
    "accelerator": "GPU",
    "gpuClass": "standard"
  },
  "nbformat": 4,
  "nbformat_minor": 5
}